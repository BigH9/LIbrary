{
  "nbformat": 4,
  "nbformat_minor": 0,
  "metadata": {
    "colab": {
      "provenance": []
    },
    "kernelspec": {
      "name": "python3",
      "display_name": "Python 3"
    },
    "language_info": {
      "name": "python"
    }
  },
  "cells": [
    {
      "cell_type": "markdown",
      "source": [
        "**Step 1: Setting up Book Storage with HashMap (Dictionary)**"
      ],
      "metadata": {
        "id": "PHn83vNRsM16"
      }
    },
    {
      "cell_type": "code",
      "execution_count": null,
      "metadata": {
        "id": "fRGrw00CsGu-"
      },
      "outputs": [],
      "source": [
        "# Book storage using a dictionary\n",
        "class Library:\n",
        "    def __init__(self):\n",
        "        \"\"\"Initialize the library with an empty book storage and loan records.\"\"\"\n",
        "        self.book_storage = {}  # {ISBN: {\"title\": str, \"author\": str, \"copies\": int}}\n",
        "        self.borrowed_books = []  # [{\"user\": str, \"isbn\": str, \"due_date\": datetime}]\n",
        "\n",
        "    def add_book(self, isbn, title, author, copies):\n",
        "        \"\"\"Add a book to the storage.\"\"\"\n",
        "        self.book_storage[isbn] = {\"title\": title, \"author\": author, \"copies\": copies}\n",
        "        print(f\"Book added: {title} by {author} (ISBN: {isbn})\")\n",
        "\n",
        "    def search_book(self, isbn):\n",
        "        \"\"\"Search for a book by its ISBN.\"\"\"\n",
        "        if isbn in self.book_storage:\n",
        "            return self.book_storage[isbn]\n",
        "        return \"Book not found.\"\n",
        "\n",
        "    def delete_book(self, isbn):\n",
        "        \"\"\"Remove a book from storage.\"\"\"\n",
        "        if isbn in self.book_storage:\n",
        "            del self.book_storage[isbn]\n",
        "            print(f\"Book with ISBN {isbn} deleted.\")\n",
        "        else:\n",
        "            print(\"Book not found.\")\n"
      ]
    },
    {
      "cell_type": "markdown",
      "source": [
        "**Step 2: User Management for Borrowed Books**"
      ],
      "metadata": {
        "id": "VvSPl3LHsWAg"
      }
    },
    {
      "cell_type": "code",
      "source": [
        "from datetime import datetime, timedelta\n",
        "\n",
        "class LoanManager(Library):\n",
        "    def borrow_book(self, user, isbn):\n",
        "        \"\"\"Allow a user to borrow a book.\"\"\"\n",
        "        if isbn in self.book_storage and self.book_storage[isbn][\"copies\"] > 0:\n",
        "            due_date = datetime.now() + timedelta(days=14)  # 14-day loan period\n",
        "            self.borrowed_books.append({\"user\": user, \"isbn\": isbn, \"due_date\": due_date})\n",
        "            self.book_storage[isbn][\"copies\"] -= 1\n",
        "            print(f\"{user} borrowed {self.book_storage[isbn]['title']}. Due date: {due_date}\")\n",
        "        else:\n",
        "            print(\"Book not available for borrowing.\")\n",
        "\n",
        "    def return_book(self, user, isbn):\n",
        "        \"\"\"Allow a user to return a borrowed book.\"\"\"\n",
        "        for record in self.borrowed_books:\n",
        "            if record[\"user\"] == user and record[\"isbn\"] == isbn:\n",
        "                self.borrowed_books.remove(record)\n",
        "                self.book_storage[isbn][\"copies\"] += 1\n",
        "                print(f\"{user} returned {self.book_storage[isbn]['title']}.\")\n",
        "                return\n",
        "        print(\"Record not found.\")\n",
        "\n",
        "    def validate_due_date(self, user, isbn):\n",
        "        \"\"\"Check if the book is overdue.\"\"\"\n",
        "        for record in self.borrowed_books:\n",
        "            if record[\"user\"] == user and record[\"isbn\"] == isbn:\n",
        "                if datetime.now() > record[\"due_date\"]:\n",
        "                    print(f\"Book is overdue! Due date was: {record['due_date']}\")\n",
        "                else:\n",
        "                    print(f\"Book is not overdue. Due date: {record['due_date']}\")\n",
        "                return\n",
        "        print(\"Record not found.\")\n"
      ],
      "metadata": {
        "id": "ClnUPIbdsVLR"
      },
      "execution_count": null,
      "outputs": []
    },
    {
      "cell_type": "markdown",
      "source": [
        "**Step 3: Loan Management Code**"
      ],
      "metadata": {
        "id": "tWjU7A7T0_Df"
      }
    },
    {
      "cell_type": "code",
      "source": [
        "# Loan Management Code from the implementation\n",
        "\n",
        "from datetime import datetime, timedelta\n",
        "\n",
        "class LoanManagement:\n",
        "    def __init__(self):\n",
        "        # List to maintain borrowed books\n",
        "        self.borrowed_books = []\n",
        "\n",
        "    def borrow_book(self, user_id, book_id, loan_days, available_copies):\n",
        "        \"\"\"Borrow a book.\"\"\"\n",
        "        if available_copies > 0:\n",
        "            due_date = datetime.now() + timedelta(days=loan_days)\n",
        "            self.borrowed_books.append({\n",
        "                'user_id': user_id,\n",
        "                'book_id': book_id,\n",
        "                'due_date': due_date\n",
        "            })\n",
        "            available_copies -= 1\n",
        "            print(f\"Book borrowed successfully. Due date: {due_date.strftime('%Y-%m-%d')}\")\n",
        "            return available_copies\n",
        "        else:\n",
        "            print(\"Book is not available for borrowing.\")\n",
        "            return available_copies\n",
        "\n",
        "    def return_book(self, user_id, book_id, available_copies):\n",
        "        \"\"\"Return a borrowed book.\"\"\"\n",
        "        for record in self.borrowed_books:\n",
        "            if record['user_id'] == user_id and record['book_id'] == book_id:\n",
        "                self.borrowed_books.remove(record)\n",
        "                available_copies += 1\n",
        "                print(\"Book returned successfully.\")\n",
        "                return available_copies\n",
        "        print(\"No matching borrowed record found.\")\n",
        "        return available_copies\n",
        "\n",
        "    def validate_loan_period(self):\n",
        "        \"\"\"Check overdue books.\"\"\"\n",
        "        today = datetime.now()\n",
        "        for record in self.borrowed_books:\n",
        "            if record['due_date'] < today:\n",
        "                print(f\"User {record['user_id']} has overdue book ID {record['book_id']} (Due: {record['due_date'].strftime('%Y-%m-%d')}).\")\n",
        "\n",
        "\n",
        "# Testing the Loan Management System\n",
        "def test_loan_management():\n",
        "    loan_manager = LoanManagement()\n",
        "\n",
        "    # Mock available copies of a book\n",
        "    available_copies = 2\n",
        "\n",
        "    # Borrowing books\n",
        "    available_copies = loan_manager.borrow_book(1, 101, 7, available_copies)\n",
        "    available_copies = loan_manager.borrow_book(2, 101, 7, available_copies)\n",
        "    available_copies = loan_manager.borrow_book(3, 101, 7, available_copies)  # Should not be available\n",
        "\n",
        "    # Returning books\n",
        "    available_copies = loan_manager.return_book(1, 101, available_copies)\n",
        "    available_copies = loan_manager.return_book(3, 101, available_copies)  # Non-existent record\n",
        "\n",
        "    # Validate loan periods\n",
        "    loan_manager.borrow_book(4, 102, -1, available_copies)  # Overdue book for testing\n",
        "    loan_manager.validate_loan_period()\n",
        "\n",
        "# Run the Loan Management tests\n",
        "test_loan_management()\n"
      ],
      "metadata": {
        "colab": {
          "base_uri": "https://localhost:8080/"
        },
        "id": "DHaN0cvyx0X7",
        "outputId": "3e4b2b16-c882-41b6-8a2d-d90702152af5"
      },
      "execution_count": null,
      "outputs": [
        {
          "output_type": "stream",
          "name": "stdout",
          "text": [
            "Book borrowed successfully. Due date: 2024-12-17\n",
            "Book borrowed successfully. Due date: 2024-12-17\n",
            "Book is not available for borrowing.\n",
            "Book returned successfully.\n",
            "No matching borrowed record found.\n",
            "Book borrowed successfully. Due date: 2024-12-09\n",
            "User 4 has overdue book ID 102 (Due: 2024-12-09).\n"
          ]
        }
      ]
    },
    {
      "cell_type": "markdown",
      "source": [
        "**Step 4: Testing Edge Install Library**"
      ],
      "metadata": {
        "id": "RxTqgwSDxUf6"
      }
    },
    {
      "cell_type": "code",
      "source": [
        "!python -m unittest test_library.py"
      ],
      "metadata": {
        "colab": {
          "base_uri": "https://localhost:8080/"
        },
        "id": "Q0-89526smiT",
        "outputId": "cc7f5992-2a7e-42fa-e63c-9edb76a814f1"
      },
      "execution_count": null,
      "outputs": [
        {
          "output_type": "stream",
          "name": "stdout",
          "text": [
            "E\n",
            "======================================================================\n",
            "ERROR: test_library (unittest.loader._FailedTest)\n",
            "----------------------------------------------------------------------\n",
            "ImportError: Failed to import test module: test_library\n",
            "Traceback (most recent call last):\n",
            "  File \"/usr/lib/python3.10/unittest/loader.py\", line 154, in loadTestsFromName\n",
            "    module = __import__(module_name)\n",
            "ModuleNotFoundError: No module named 'test_library'\n",
            "\n",
            "\n",
            "----------------------------------------------------------------------\n",
            "Ran 1 test in 0.000s\n",
            "\n",
            "FAILED (errors=1)\n"
          ]
        }
      ]
    },
    {
      "cell_type": "markdown",
      "source": [
        "**Step 5: Testing Edge Scenarios**"
      ],
      "metadata": {
        "id": "EpcnzBBj0s5R"
      }
    },
    {
      "cell_type": "code",
      "source": [
        "import unittest\n",
        "\n",
        "class TestLibrarySystem(unittest.TestCase):\n",
        "    def setUp(self):\n",
        "        \"\"\"Setup a sample library for testing.\"\"\"\n",
        "        self.library = LoanManager()\n",
        "        self.loan_manager = LoanManagement()\n",
        "        self.available_copies = 3\n",
        "        self.library.add_book(\"12345\", \"Python Basics\", \"John Doe\", 3)\n",
        "        self.library.add_book(\"67890\", \"Advanced Python\", \"Jane Doe\", 1)\n",
        "\n",
        "    def test_search_book(self):\n",
        "        \"\"\"Test searching for a book.\"\"\"\n",
        "        result = self.library.search_book(\"12345\")\n",
        "        self.assertEqual(result[\"title\"], \"Python Basics\")\n",
        "        result = self.library.search_book(\"99999\")\n",
        "        self.assertEqual(result, \"Book not found.\")\n",
        "\n",
        "    def test_borrow_book(self):\n",
        "        \"\"\"Test borrowing a book.\"\"\"\n",
        "        self.library.borrow_book(\"Alice\", \"12345\")\n",
        "        self.assertEqual(self.library.book_storage[\"12345\"][\"copies\"], 2)\n",
        "\n",
        "    def test_return_book(self):\n",
        "        \"\"\"Test returning a book.\"\"\"\n",
        "        self.library.borrow_book(\"Alice\", \"12345\")\n",
        "        self.library.return_book(\"Alice\", \"12345\")\n",
        "        self.assertEqual(self.library.book_storage[\"12345\"][\"copies\"], 3)\n",
        "\n",
        "    def test_overdue_book(self):\n",
        "        \"\"\"Test overdue validation.\"\"\"\n",
        "        self.library.borrow_book(\"Bob\", \"67890\")\n",
        "        self.library.validate_due_date(\"Bob\", \"67890\")  # Not overdue yet\n",
        "    def test_borrow_book(self):\n",
        "        \"\"\"Test borrowing a book.\"\"\"\n",
        "        self.available_copies = self.loan_manager.borrow_book(\"User1\", \"101\", 7, self.available_copies)\n",
        "        self.assertEqual(self.available_copies, 2)  # Copies should decrease by 1\n",
        "\n",
        "        # Test borrowing when no copies are available\n",
        "        self.available_copies = self.loan_manager.borrow_book(\"User2\", \"101\", 7, 0)\n",
        "        self.assertEqual(self.available_copies, 0)  # Copies remain zero\n",
        "\n",
        "    def test_return_book(self):\n",
        "        \"\"\"Test returning a book.\"\"\"\n",
        "        self.available_copies = self.loan_manager.borrow_book(\"User1\", \"101\", 7, self.available_copies)\n",
        "        self.available_copies = self.loan_manager.return_book(\"User1\", \"101\", self.available_copies)\n",
        "        self.assertEqual(self.available_copies, 3)  # Copies should increase back to initial value\n",
        "\n",
        "        # Test returning a book that was not borrowed\n",
        "        self.available_copies = self.loan_manager.return_book(\"User2\", \"101\", self.available_copies)\n",
        "        self.assertEqual(self.available_copies, 3)  # Copies remain unchanged\n",
        "\n",
        "    def test_validate_loan_period(self):\n",
        "        \"\"\"Test validating overdue books.\"\"\"\n",
        "        self.loan_manager.borrow_book(\"User1\", \"101\", -1, self.available_copies)  # Overdue book\n",
        "        today = datetime.now()\n",
        "        overdue_books = [\n",
        "            record for record in self.loan_manager.borrowed_books\n",
        "            if record['due_date'] < today\n",
        "        ]\n",
        "        self.assertEqual(len(overdue_books), 1)  # There should be one overdue book\n",
        "suite = unittest.TestLoader().loadTestsFromTestCase(TestLibrarySystem)\n",
        "unittest.TextTestRunner().run(suite)"
      ],
      "metadata": {
        "colab": {
          "base_uri": "https://localhost:8080/"
        },
        "id": "iNNsZ0H_sZQx",
        "outputId": "f63cc004-f839-47ff-8cd0-85bceb0cb16d"
      },
      "execution_count": null,
      "outputs": [
        {
          "output_type": "stream",
          "name": "stderr",
          "text": [
            ".....\n",
            "----------------------------------------------------------------------\n",
            "Ran 5 tests in 0.015s\n",
            "\n",
            "OK\n"
          ]
        },
        {
          "output_type": "stream",
          "name": "stdout",
          "text": [
            "Book added: Python Basics by John Doe (ISBN: 12345)\n",
            "Book added: Advanced Python by Jane Doe (ISBN: 67890)\n",
            "Book borrowed successfully. Due date: 2024-12-17\n",
            "Book is not available for borrowing.\n",
            "Book added: Python Basics by John Doe (ISBN: 12345)\n",
            "Book added: Advanced Python by Jane Doe (ISBN: 67890)\n",
            "Bob borrowed Advanced Python. Due date: 2024-12-24 18:21:48.198882\n",
            "Book is not overdue. Due date: 2024-12-24 18:21:48.198882\n",
            "Book added: Python Basics by John Doe (ISBN: 12345)\n",
            "Book added: Advanced Python by Jane Doe (ISBN: 67890)\n",
            "Book borrowed successfully. Due date: 2024-12-17\n",
            "Book returned successfully.\n",
            "No matching borrowed record found.\n",
            "Book added: Python Basics by John Doe (ISBN: 12345)\n",
            "Book added: Advanced Python by Jane Doe (ISBN: 67890)\n",
            "Book added: Python Basics by John Doe (ISBN: 12345)\n",
            "Book added: Advanced Python by Jane Doe (ISBN: 67890)\n",
            "Book borrowed successfully. Due date: 2024-12-09\n"
          ]
        },
        {
          "output_type": "execute_result",
          "data": {
            "text/plain": [
              "<unittest.runner.TextTestResult run=5 errors=0 failures=0>"
            ]
          },
          "metadata": {},
          "execution_count": 12
        }
      ]
    },
    {
      "cell_type": "markdown",
      "source": [
        "**Additional: Sorting and Range Queries Using a Binary Search Tree**"
      ],
      "metadata": {
        "id": "cGrTUTz864vO"
      }
    },
    {
      "cell_type": "code",
      "source": [
        "#Sorting and Range Queries Using a Binary Search Tree\n",
        "\n",
        "from datetime import datetime, timedelta\n",
        "\n",
        "# Step 1: Define a Node for the Binary Search Tree (BST)\n",
        "class TreeNode:\n",
        "    def __init__(self, isbn, title, author, copies):\n",
        "        self.isbn = isbn\n",
        "        self.title = title\n",
        "        self.author = author\n",
        "        self.copies = copies\n",
        "        self.left = None\n",
        "        self.right = None\n",
        "\n",
        "# Step 2: Define the Binary Search Tree (BST) for Book Storage\n",
        "class BookBST:\n",
        "    def __init__(self):\n",
        "        self.root = None\n",
        "\n",
        "    def insert(self, isbn, title, author, copies):\n",
        "        \"\"\"Insert a book into the BST.\"\"\"\n",
        "        def _insert(node, isbn, title, author, copies):\n",
        "            if not node:\n",
        "                return TreeNode(isbn, title, author, copies)\n",
        "            if isbn < node.isbn:\n",
        "                node.left = _insert(node.left, isbn, title, author, copies)\n",
        "            elif isbn > node.isbn:\n",
        "                node.right = _insert(node.right, isbn, title, author, copies)\n",
        "            return node\n",
        "\n",
        "        self.root = _insert(self.root, isbn, title, author, copies)\n",
        "\n",
        "    def search(self, isbn):\n",
        "        \"\"\"Search for a book by ISBN in the BST.\"\"\"\n",
        "        def _search(node, isbn):\n",
        "            if not node:\n",
        "                return None\n",
        "            if isbn == node.isbn:\n",
        "                return node\n",
        "            if isbn < node.isbn:\n",
        "                return _search(node.left, isbn)\n",
        "            return _search(node.right, isbn)\n",
        "\n",
        "        result = _search(self.root, isbn)\n",
        "        if result:\n",
        "            return {\"isbn\": result.isbn, \"title\": result.title, \"author\": result.author, \"copies\": result.copies}\n",
        "        else:\n",
        "            return \"Book not found.\"\n",
        "\n",
        "    def inorder(self, node):\n",
        "        \"\"\"Perform an in-order traversal to list books in sorted order.\"\"\"\n",
        "        if not node:\n",
        "            return []\n",
        "        return self.inorder(node.left) + [{\"isbn\": node.isbn, \"title\": node.title, \"author\": node.author}] + self.inorder(node.right)\n",
        "\n",
        "    def get_sorted_books(self):\n",
        "        \"\"\"Return all books in sorted order by ISBN.\"\"\"\n",
        "        return self.inorder(self.root)\n",
        "\n",
        "# Step 3: Loan Management Class\n",
        "class LoanManager:\n",
        "    def __init__(self):\n",
        "        self.borrowed_books = []  # List to store loan records\n",
        "\n",
        "    def borrow_book(self, user, isbn, loan_days, bst):\n",
        "        \"\"\"Borrow a book using the BST.\"\"\"\n",
        "        book = bst.search(isbn)\n",
        "        if book != \"Book not found.\" and book[\"copies\"] > 0:\n",
        "            due_date = datetime.now() + timedelta(days=loan_days)\n",
        "            self.borrowed_books.append({\"user\": user, \"isbn\": isbn, \"due_date\": due_date})\n",
        "            book[\"copies\"] -= 1\n",
        "            print(f\"Book '{book['title']}' borrowed by {user}. Due date: {due_date.strftime('%Y-%m-%d')}\")\n",
        "        else:\n",
        "            print(\"Book unavailable for borrowing.\")\n",
        "\n",
        "    def return_book(self, user, isbn, bst):\n",
        "        \"\"\"Return a borrowed book.\"\"\"\n",
        "        for record in self.borrowed_books:\n",
        "            if record[\"user\"] == user and record[\"isbn\"] == isbn:\n",
        "                self.borrowed_books.remove(record)\n",
        "                book = bst.search(isbn)\n",
        "                if book != \"Book not found.\":\n",
        "                    book[\"copies\"] += 1\n",
        "                print(f\"Book with ISBN {isbn} returned by {user}.\")\n",
        "                return\n",
        "        print(\"No matching record found.\")\n",
        "\n",
        "    def validate_loans(self):\n",
        "        \"\"\"Validate overdue loans.\"\"\"\n",
        "        today = datetime.now()\n",
        "        for record in self.borrowed_books:\n",
        "            if record[\"due_date\"] < today:\n",
        "                print(f\"Overdue: {record['user']} with book ISBN {record['isbn']}.\")\n",
        "\n",
        "# Step 4: Testing the Enhanced Library System\n",
        "def test_library_system():\n",
        "    bst = BookBST()\n",
        "    loan_manager = LoanManager()\n",
        "\n",
        "    # Adding books\n",
        "    bst.insert(12345, \"Python Basics\", \"John Doe\", 3)\n",
        "    bst.insert(67890, \"Data Structures\", \"Jane Smith\", 2)\n",
        "    bst.insert(11111, \"Algorithms Unlocked\", \"Robert Sedgewick\", 1)\n",
        "\n",
        "    # Search and sorted listing\n",
        "    print(\"Search for a book:\", bst.search(12345))\n",
        "    print(\"All books in sorted order:\", bst.get_sorted_books())\n",
        "\n",
        "    # Borrowing and returning books\n",
        "    loan_manager.borrow_book(\"Alice\", 12345, 14, bst)\n",
        "    loan_manager.borrow_book(\"Bob\", 67890, 7, bst)\n",
        "    loan_manager.borrow_book(\"Charlie\", 11111, 7, bst)\n",
        "    loan_manager.return_book(\"Alice\", 12345, bst)\n",
        "\n",
        "    # Validating overdue loans\n",
        "    loan_manager.borrow_book(\"Dave\", 12345, -5, bst)  # Simulate overdue\n",
        "    loan_manager.validate_loans()\n",
        "\n",
        "# Run the test\n",
        "test_library_system()\n"
      ],
      "metadata": {
        "colab": {
          "base_uri": "https://localhost:8080/"
        },
        "id": "NrNosVoR62ks",
        "outputId": "d2e0c968-7125-4dfc-b4df-75a4e199e37f"
      },
      "execution_count": 14,
      "outputs": [
        {
          "output_type": "stream",
          "name": "stdout",
          "text": [
            "Search for a book: {'isbn': 12345, 'title': 'Python Basics', 'author': 'John Doe', 'copies': 3}\n",
            "All books in sorted order: [{'isbn': 11111, 'title': 'Algorithms Unlocked', 'author': 'Robert Sedgewick'}, {'isbn': 12345, 'title': 'Python Basics', 'author': 'John Doe'}, {'isbn': 67890, 'title': 'Data Structures', 'author': 'Jane Smith'}]\n",
            "Book 'Python Basics' borrowed by Alice. Due date: 2024-12-24\n",
            "Book 'Data Structures' borrowed by Bob. Due date: 2024-12-17\n",
            "Book 'Algorithms Unlocked' borrowed by Charlie. Due date: 2024-12-17\n",
            "Book with ISBN 12345 returned by Alice.\n",
            "Book 'Python Basics' borrowed by Dave. Due date: 2024-12-05\n",
            "Overdue: Dave with book ISBN 12345.\n"
          ]
        }
      ]
    }
  ]
}